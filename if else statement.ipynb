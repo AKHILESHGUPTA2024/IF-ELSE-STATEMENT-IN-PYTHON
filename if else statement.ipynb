{
 "cells": [
  {
   "cell_type": "markdown",
   "metadata": {},
   "source": [
    "## Python IF Else Statements"
   ]
  },
  {
   "cell_type": "code",
   "execution_count": 4,
   "metadata": {},
   "outputs": [
    {
     "name": "stdout",
     "output_type": "stream",
     "text": [
      "z is 500\n"
     ]
    }
   ],
   "source": [
    "# example 1\n",
    "z=500\n",
    "if z==100:\n",
    "    print('z is 100')\n",
    "elif z==200:\n",
    "    print('z is 200')\n",
    "elif z==300:\n",
    "    print('z is 300')\n",
    "elif z==400:\n",
    "    print('z is 400')\n",
    "elif z==500:\n",
    "    print('z is 500')\n",
    "else:\n",
    "    print('z is unknown')"
   ]
  },
  {
   "cell_type": "code",
   "execution_count": 5,
   "metadata": {},
   "outputs": [
    {
     "name": "stdout",
     "output_type": "stream",
     "text": [
      "m is equal to n\n"
     ]
    }
   ],
   "source": [
    "# example 2\n",
    "m = 25\n",
    "n = 25\n",
    "if m > n:\n",
    "    print('m is greater than n')\n",
    "elif m==n:\n",
    "    print('m is equal to n')\n",
    "else:\n",
    "    print('m is less than n')"
   ]
  },
  {
   "cell_type": "code",
   "execution_count": 6,
   "metadata": {},
   "outputs": [
    {
     "name": "stdout",
     "output_type": "stream",
     "text": [
      "p not equal to q\n"
     ]
    }
   ],
   "source": [
    "# example 3\n",
    "p = 30\n",
    "q = 20\n",
    "if ((p<q) | (p==q)):\n",
    "    print('p is either less than q')\n",
    "elif ((p==30) & (q==30)):\n",
    "    print('p and q are equal')\n",
    "elif (p!=q):\n",
    "    print('p not equal to q')\n",
    "else:\n",
    "    print('p is greater than q')"
   ]
  }
 ],
 "metadata": {
  "kernelspec": {
   "display_name": "Python 3",
   "language": "python",
   "name": "python3"
  },
  "language_info": {
   "codemirror_mode": {
    "name": "ipython",
    "version": 3
   },
   "file_extension": ".py",
   "mimetype": "text/x-python",
   "name": "python",
   "nbconvert_exporter": "python",
   "pygments_lexer": "ipython3",
   "version": "3.12.4"
  }
 },
 "nbformat": 4,
 "nbformat_minor": 2
}
